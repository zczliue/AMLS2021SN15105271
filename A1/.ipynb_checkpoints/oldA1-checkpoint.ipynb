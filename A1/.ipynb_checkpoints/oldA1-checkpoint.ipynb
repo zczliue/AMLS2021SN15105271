{
 "cells": [
  {
   "cell_type": "code",
   "execution_count": 1,
   "metadata": {},
   "outputs": [],
   "source": [
    "# This is the function file for Task A1,\n",
    "# which assess the performance between different classifiers, \n",
    "# by grid search with cross validation, including:\n",
    "\n",
    "# Logistic Regression\n",
    "# SVM \n",
    "# Random Forest\n",
    "# KNN\n",
    "# MLP\n",
    "\n",
    "# The assessment metrices for classifiers include:\n",
    "# 1. Accuracy score between ytrue and ypred\n",
    "# 2. Grid score for grid search tuning\n",
    "# 3. ROC curve (if multiple thresholds)\n",
    "\n",
    "\n",
    "# To use this file, specify:\n",
    "# 'image_folder' : a string in either 'celeba' or 'cartoon_set'\n",
    "# 'label_name' :  a string that specifies the feature name, i.e. 'gender', 'smiling' as in labels.csv\n",
    "# 'tuning_parameters' : a dictionary contains different kernels and settings\n",
    "# 'cvfold': an int for K-fold cross validation\n",
    "\n",
    "# return value: trained classifier with best parameter settings"
   ]
  },
  {
   "cell_type": "code",
   "execution_count": 20,
   "metadata": {},
   "outputs": [],
   "source": [
    "import os\n",
    "import numpy as np\n",
    "import time\n",
    "from keras.preprocessing import image\n",
    "import cv2\n",
    "import dlib\n",
    "#import rewritten lab2 landmarks extraction \n",
    "import A1_extract_landmarks as A1_extract\n",
    "\n"
   ]
  },
  {
   "cell_type": "code",
   "execution_count": 21,
   "metadata": {},
   "outputs": [],
   "source": [
    "import numpy as np\n",
    "import pandas as pd\n",
    "import matplotlib.pyplot as plt\n",
    "\n",
    "from sklearn import datasets, metrics, model_selection, svm\n",
    "\n",
    "\n",
    "from sklearn.utils import shuffle\n",
    "from sklearn.datasets import load_iris\n",
    "\n",
    "from sklearn.model_selection import GridSearchCV\n",
    "from sklearn.linear_model import LogisticRegression\n",
    "from sklearn.ensemble import RandomForestClassifier\n",
    "from sklearn.svm import SVC\n",
    "from sklearn.neighbors import KNeighborsClassifier\n",
    "from sklearn.neural_network import MLPClassifier\n",
    "from sklearn.preprocessing import StandardScaler\n",
    "from sklearn.metrics import confusion_matrix\n",
    "from sklearn.preprocessing import StandardScaler\n",
    "from sklearn.model_selection import cross_val_score\n",
    "from sklearn.model_selection import train_test_split\n",
    "\n",
    "from sklearn.metrics import classification_report,accuracy_score\n"
   ]
  },
  {
   "cell_type": "code",
   "execution_count": 22,
   "metadata": {},
   "outputs": [],
   "source": [
    "# Set the parameters for Grid search\n",
    "split_ratio = 0.75\n",
    "cvfold = 5\n",
    "image_folder = 'celeba'\n",
    "label_name   = 'gender'\n",
    "\n",
    "\n",
    "#SVM\n",
    "#SVM_tuned_parameters = [{'kernel': ['rbf'], 'gamma': [1e-2, 1e-1, 1, 10],'C': [0.01, 0.1, 1, 10]}]\n",
    "#                        {'kernel': ['linear'], 'C': [0.01, 0.1, 1, 10]},\n",
    "#                        {'kernel':['sigmoid'],'gamma': [1e-2, 1e-1, 1, 10],'C': [0.01, 0.1, 1, 10]}\n",
    "SVM_tuned_parameters = {'kernel': ['rbf', 'linear', 'sigmoid'],\n",
    "                        'C': [0.001, 0.01, 0.1, 1, 10],\n",
    "                        'gamma': [1e-4, 1e-3, 1e-2, 1e-1]}\n",
    "\n",
    "\n",
    "#Logistic Regression\n",
    "#LogReg_tuned_parameters = [{ 'solver':['lbfgs'], 'C':[0.01, 0.1, 1, 10]}, \n",
    "#                          {'solver':[ 'saga'], 'penalty':['l1'], 'C':[0.01, 0.1, 1, 10]}]\n",
    "\n",
    "LogReg_tuned_parameters = {'solver':[ 'saga'], 'penalty':['l1', 'l2'], 'C':[1e-4, 1e-3, 1e-2, 1e-1, 1,10]}\n",
    "                          \n",
    "\n",
    "#Random Forest\n",
    "RF_tuned_parameters = [{'n_estimators':[64, 128, 256, 512, 1024], 'max_depth':[64, 128, 256, 512, 1024]}]\n",
    "\n",
    "#KNN parameter\n",
    "KNN_tuned_parameters = [{'n_neighbors':[8,16,32,64,128]}]\n",
    "\n",
    "#MLP parameter\n",
    "MLP_tuned_parameters = [{'hidden_layer_sizes': [(128,256,128,), (128,256,128,), (128,),(256,),(512,)], \n",
    "                         'activation': ['logistic', 'tanh', 'relu'],\n",
    "                         'learning_rate':['constant', 'adaptive']}]\n",
    "\n"
   ]
  },
  {
   "cell_type": "code",
   "execution_count": 23,
   "metadata": {},
   "outputs": [],
   "source": [
    "# This function is rewritten as follows:\n",
    "# the input image_folder must be a string that specifies 'celeba' or 'cartoon_set'\n",
    "# the input label_name must be a string that specifies the feature name, i.e. 'gender', 'smiling' as in labels.csv\n",
    "\n",
    "def split_data(X, y, split_ratio):\n",
    "\n",
    "    #convert to binary class matrices\n",
    "    Y = np.array([y, -(y - 1)]).T\n",
    "    \n",
    "    X, Y = shuffle(X,Y)\n",
    "    train_X, test_X, train_Y, test_Y = train_test_split(X, Y, train_size=split_ratio)\n",
    "    \n",
    "    #reshape into appropriate dimensions\n",
    "    tr_X = train_X.reshape((train_X.shape[0], train_X.shape[1]*2))\n",
    "    te_X = test_X.reshape((test_X.shape[0], test_X.shape[1]*2))\n",
    "    \n",
    "    x_scaler = StandardScaler()\n",
    "    tr_X = x_scaler.fit_transform(tr_X)\n",
    "    te_X = x_scaler.transform(te_X)\n",
    "    \n",
    "    \n",
    "    tr_Y = list(zip(*train_Y))[0]\n",
    "    te_Y = list(zip(*test_Y))[0]\n",
    "\n",
    "    return tr_X, te_X, tr_Y, te_Y "
   ]
  },
  {
   "cell_type": "code",
   "execution_count": 24,
   "metadata": {},
   "outputs": [],
   "source": [
    "def bulk_runtime_estimation(classifier, xtest):\n",
    "    \n",
    "    nsamp = xtest.shape[0]\n",
    "    start = time.time()\n",
    "    ypred = classifier.predict(xtest)\n",
    "    bulk_runtime = time.time() - start\n",
    "    \n",
    "    #average runtime per instance\n",
    "    avg_runtime = bulk_runtime/nsamp\n",
    "    \n",
    "    return ypred, bulk_runtime, avg_runtime\n",
    "    "
   ]
  },
  {
   "cell_type": "code",
   "execution_count": null,
   "metadata": {},
   "outputs": [],
   "source": [
    "\n",
    "    "
   ]
  },
  {
   "cell_type": "code",
   "execution_count": 25,
   "metadata": {},
   "outputs": [],
   "source": [
    "#Prediction with Grid Search Cross validation Logistic Regression\n",
    "# Compare between L1 or L2 regularization\n",
    "def LogReg_GridSearch_PredictionCV(xtrain, ytrain, xtest, ytest, tuning_parameters, cvfold):\n",
    "    clf = GridSearchCV(LogisticRegression(max_iter=5000), tuning_parameters, cv = cvfold, return_train_score=True)\n",
    "    clf.fit(xtrain, ytrain)\n",
    "    \n",
    "    \n",
    "    cv_df = pd.DataFrame(clf.cv_results_)\n",
    "    results = ['mean_test_score',\n",
    "               'mean_train_score',\n",
    "               'std_test_score', \n",
    "               'std_train_score']\n",
    "    \n",
    "    \n",
    "    \n",
    "    \n",
    "    \n",
    "    print()\n",
    "    print('-------------------------------------------------')\n",
    "    print(\"Prediction with Grid search Logistic Regression Cross validation:\")\n",
    "    print()\n",
    "    print(\"Best parameters set found on development set:\")\n",
    "    print()\n",
    "    print(clf.best_params_)\n",
    "    print()\n",
    "    print(\"Grid scores on development set:\")\n",
    "    print()\n",
    "    means = clf.cv_results_['mean_test_score']\n",
    "    stds = clf.cv_results_['std_test_score']\n",
    "    \n",
    "    print('###############')\n",
    "    print(means)\n",
    "    print('###############')\n",
    "    \n",
    "    \n",
    "    \n",
    "    for mean, std, params in zip(means, stds, clf.cv_results_['params']):\n",
    "        print(\"%0.3f (+/-%0.03f) for %r\"\n",
    "            % (mean, std * 2, params))\n",
    "    print()\n",
    "    \n",
    "    #ytrue, ypred = ytest, clf.predict(xtest)\n",
    "    ypred, bulk_runtime, avg_runtime = bulk_runtime_estimation(clf, xtest)\n",
    "    ytrue, ypred = ytest, ypred\n",
    "    \n",
    "    print(classification_report(ytrue, ypred))\n",
    "    print(\"Accuracy:\", accuracy_score(ytrue, ypred))\n",
    "    print()\n",
    "    print('Average runtime per test instance:', avg_runtime)\n",
    "    \n",
    "    #return classifier\n",
    "    return clf\n",
    "    "
   ]
  },
  {
   "cell_type": "code",
   "execution_count": 26,
   "metadata": {},
   "outputs": [],
   "source": [
    "#Prediction with Grid search SVC Cross validation\n",
    "def SVC_GridSearch_PredictionCV(xtrain, ytrain, xtest, ytest, tuning_parameters, cvfold):\n",
    "    # classifier\n",
    "    clf = GridSearchCV(SVC(), tuning_parameters, cv = cvfold, return_train_score=True)\n",
    "    clf.fit(xtrain, ytrain)\n",
    "    \n",
    "    cv_df = pd.DataFrame(clf.cv_results_)\n",
    "    results = ['mean_test_score',\n",
    "               'mean_train_score',\n",
    "               'std_test_score', \n",
    "               'std_train_score']\n",
    "    \n",
    "    #plot_validation_curve(tuning_parameters,cv_df, results)\n",
    "    \n",
    "    print()\n",
    "    print('-------------------------------------------------')\n",
    "    print(\"Prediction with Grid search SVC Cross validation:\")\n",
    "    print()\n",
    "    print(\"Best parameters set found on development set:\")\n",
    "    print()\n",
    "    print(clf.best_params_)\n",
    "    print()\n",
    "    print(\"Grid scores on development set:\")\n",
    "    print()\n",
    "    means = clf.cv_results_['mean_test_score']\n",
    "    stds = clf.cv_results_['std_test_score']\n",
    "    for mean, std, params in zip(means, stds, clf.cv_results_['params']):\n",
    "        print(\"%0.3f (+/-%0.03f) for %r\"\n",
    "            % (mean, std * 2, params))\n",
    "    print()\n",
    "    \n",
    "    #ytrue, ypred = ytest, clf.predict(xtest)\n",
    "    ypred, bulk_runtime, avg_runtime = bulk_runtime_estimation(clf, xtest)\n",
    "    ytrue, ypred = ytest, ypred\n",
    "    \n",
    "    print(classification_report(ytrue, ypred))\n",
    "    print(\"Accuracy:\", accuracy_score(ytrue, ypred))\n",
    "    print()\n",
    "    print('Average runtime per test instance:', avg_runtime)\n",
    "    \n",
    "    #return classifier\n",
    "    return clf\n",
    "    \n",
    "    \n",
    "    \n",
    "    "
   ]
  },
  {
   "cell_type": "code",
   "execution_count": 9,
   "metadata": {},
   "outputs": [],
   "source": [
    "def RF_GridSearch_PredictionCV(xtrain, ytrain, xtest, ytest, tuning_parameters, cvfold):\n",
    "\n",
    "    clf = GridSearchCV(RandomForestClassifier() , tuning_parameters, cv = cvfold, return_train_score=True)\n",
    "    clf.fit(xtrain, ytrain)\n",
    "    \n",
    "    print()\n",
    "    print('-------------------------------------------------')\n",
    "    print(\"Prediction with Grid search Random Forest Cross validation:\")\n",
    "    print()\n",
    "    print(\"Best parameters set found on development set:\")\n",
    "    print()\n",
    "    print(clf.best_params_)\n",
    "    print()\n",
    "    print(\"Grid scores on development set:\")\n",
    "    print()\n",
    "    means = clf.cv_results_['mean_test_score']\n",
    "    stds = clf.cv_results_['std_test_score']\n",
    "    for mean, std, params in zip(means, stds, clf.cv_results_['params']):\n",
    "        print(\"%0.3f (+/-%0.03f) for %r\"\n",
    "            % (mean, std * 2, params))\n",
    "    print()\n",
    "    \n",
    "    #ytrue, ypred = ytest, clf.predict(xtest)\n",
    "    ypred, bulk_runtime, avg_runtime = bulk_runtime_estimation(clf, xtest)\n",
    "    ytrue, ypred = ytest, ypred\n",
    "    \n",
    "    print(classification_report(ytrue, ypred))\n",
    "    print(\"Accuracy:\", accuracy_score(ytrue, ypred))\n",
    "    print()\n",
    "    print('Average runtime per test instance:', avg_runtime)\n",
    "    \n",
    "    #determine important features\n",
    "    importances = clf.best_estimator_.feature_importances_\n",
    "    indices = np.argsort(importances)\n",
    "    plt.title('Feature Importances')\n",
    "    plt.barh(range(len(indices)), importances[indices], color='b', align='center')\n",
    "    plt.yticks(range(len(indices)), [i for i in indices])\n",
    "    plt.xlabel('Relative Importance')\n",
    "    plt.show()\n",
    "    \n",
    "    \n",
    "    \n",
    "    # confusion matrix\n",
    "    plot_confusion_matrix(ytrue, ypred)\n",
    "\n",
    "    #return classifier\n",
    "    return clf, indices\n",
    "    \n",
    "    \n",
    "    "
   ]
  },
  {
   "cell_type": "code",
   "execution_count": 10,
   "metadata": {},
   "outputs": [],
   "source": [
    "def KNN_Grid_search_Prediction_CV(xtrain, ytrain, xtest, ytest, tuning_parameters, cvfold):\n",
    "    clf = GridSearchCV(KNeighborsClassifier() , tuning_parameters, cv = cvfold, return_train_score = True)\n",
    "    clf.fit(xtrain, ytrain)\n",
    "    \n",
    "    print()\n",
    "    print('-------------------------------------------------')\n",
    "    print(\"Prediction with Grid search KNN Cross validation:\")\n",
    "    print()\n",
    "    print(\"Best parameters set found on development set:\")\n",
    "    print()\n",
    "    print(clf.best_params_)\n",
    "    print()\n",
    "    print(\"Grid scores on development set:\")\n",
    "    print()\n",
    "    means = clf.cv_results_['mean_test_score']\n",
    "    stds = clf.cv_results_['std_test_score']\n",
    "    for mean, std, params in zip(means, stds, clf.cv_results_['params']):\n",
    "        print(\"%0.3f (+/-%0.03f) for %r\"\n",
    "            % (mean, std * 2, params))\n",
    "    print()\n",
    "    \n",
    "    #ytrue, ypred = ytest, clf.predict(xtest)\n",
    "    ypred, bulk_runtime, avg_runtime = bulk_runtime_estimation(clf, xtest)\n",
    "    ytrue, ypred = ytest, ypred\n",
    "    \n",
    "    print(classification_report(ytrue, ypred))\n",
    "    print(\"Accuracy:\", accuracy_score(ytrue, ypred))\n",
    "    print()\n",
    "    print('Average runtime per test instance:', avg_runtime)\n",
    "    \n",
    "    #return classifier\n",
    "    return clf\n",
    "    \n",
    "    "
   ]
  },
  {
   "cell_type": "code",
   "execution_count": 11,
   "metadata": {},
   "outputs": [],
   "source": [
    "def MLP_Grid_search_Prediction_CV(xtrain, ytrain, xtest, ytest, tuning_parameters, cvfold):\n",
    "    scaler = StandardScaler() \n",
    "    scaler.fit(xtrain) \n",
    "    xtrain = scaler.transform(xtrain)\n",
    "    xtest = scaler.transform(xtest)\n",
    "    \n",
    "    clf = GridSearchCV(MLPClassifier(max_iter=5000) , tuning_parameters, cv = cvfold, return_train_score=True)\n",
    "    clf.fit(xtrain, ytrain)\n",
    "    \n",
    "    print()\n",
    "    print('-------------------------------------------------')\n",
    "    print(\"Prediction with Grid search MLP Cross validation:\")\n",
    "    print()\n",
    "    print(\"Best parameters set found on development set:\")\n",
    "    print()\n",
    "    print(clf.best_params_)\n",
    "    print()\n",
    "    print(\"Grid scores on development set:\")\n",
    "    print()\n",
    "    means = clf.cv_results_['mean_test_score']\n",
    "    stds = clf.cv_results_['std_test_score']\n",
    "    for mean, std, params in zip(means, stds, clf.cv_results_['params']):\n",
    "        print(\"%0.3f (+/-%0.03f) for %r\"\n",
    "            % (mean, std * 2, params))\n",
    "    print()\n",
    "    \n",
    "    #ytrue, ypred = ytest, clf.predict(xtest)\n",
    "    ypred, bulk_runtime, avg_runtime = bulk_runtime_estimation(clf, xtest)\n",
    "    ytrue, ypred = ytest, ypred\n",
    "    \n",
    "    print(classification_report(ytrue, ypred))\n",
    "    print(\"Accuracy:\", accuracy_score(ytrue, ypred))\n",
    "    print()\n",
    "    print('Average runtime per test instance:', avg_runtime)\n",
    "    \n",
    "    #return classifier\n",
    "    return clf\n",
    "    \n",
    "    \n",
    "    "
   ]
  },
  {
   "cell_type": "code",
   "execution_count": 12,
   "metadata": {},
   "outputs": [],
   "source": [
    "def plot_ROC_curve(ytrue, ypred):\n",
    "    fpr, tpr, threshold = metrics.roc_curve(ytrue, ypred) \n",
    "    roc_auc = metrics.auc(fpr, tpr)\n",
    "    \n",
    "    plt.title('Receiver Operating Characteristic')\n",
    "    plt.plot(fpr, tpr, 'b', label = 'AUC = %0.2f' % roc_auc)\n",
    "    plt.legend(loc = 'lower right')\n",
    "    plt.plot([0, 1], [0, 1],'r--')\n",
    "    plt.xlim([0, 1])\n",
    "    plt.ylim([0, 1])\n",
    "    plt.ylabel('True Positive Rate')\n",
    "    plt.xlabel('False Positive Rate')\n",
    "    plt.show()\n",
    "\n",
    "    "
   ]
  },
  {
   "cell_type": "code",
   "execution_count": 13,
   "metadata": {},
   "outputs": [],
   "source": [
    "def plot_confusion_matrix(ytrue, ypred):\n",
    "    cm = confusion_matrix(ytrue, ypred)\n",
    "    plt.matshow(cm)\n",
    "    plt.title('Confusion matrix')\n",
    "    plt.colorbar()\n",
    "    plt.ylabel('True label')\n",
    "    plt.xlabel('Predicted label')\n",
    "    plt.show()"
   ]
  },
  {
   "cell_type": "code",
   "execution_count": 14,
   "metadata": {},
   "outputs": [],
   "source": [
    "#68 feature contents (from image), corresponding label (from csv), the image name where dlib cannot extract features\n",
    "landmark_features, label_contents, no_features_sets = A1_extract.extract_features_labels(image_folder, label_name)"
   ]
  },
  {
   "cell_type": "code",
   "execution_count": 27,
   "metadata": {},
   "outputs": [],
   "source": [
    "tr_X, te_X, tr_Y, te_Y = split_data(landmark_features, label_contents, split_ratio)"
   ]
  },
  {
   "cell_type": "code",
   "execution_count": null,
   "metadata": {},
   "outputs": [],
   "source": []
  },
  {
   "cell_type": "code",
   "execution_count": 19,
   "metadata": {},
   "outputs": [
    {
     "name": "stderr",
     "output_type": "stream",
     "text": [
      "/Users/apple/opt/anaconda3/envs/AMLS/lib/python3.6/site-packages/sklearn/linear_model/sag.py:337: ConvergenceWarning: The max_iter was reached which means the coef_ did not converge\n",
      "  \"the coef_ did not converge\", ConvergenceWarning)\n"
     ]
    },
    {
     "name": "stdout",
     "output_type": "stream",
     "text": [
      "\n",
      "-------------------------------------------------\n",
      "Prediction with Grid search Logistic Regression Cross validation:\n",
      "\n",
      "Best parameters set found on development set:\n",
      "\n",
      "{'C': 1, 'penalty': 'l2', 'solver': 'saga'}\n",
      "\n",
      "Grid scores on development set:\n",
      "\n",
      "###############\n",
      "[0.51       0.83333333 0.51       0.87361111 0.86       0.89888889\n",
      " 0.9125     0.91444444 0.91861111 0.91972222 0.91888889 0.91833333]\n",
      "###############\n",
      "0.510 (+/-0.001) for {'C': 0.0001, 'penalty': 'l1', 'solver': 'saga'}\n",
      "0.833 (+/-0.034) for {'C': 0.0001, 'penalty': 'l2', 'solver': 'saga'}\n",
      "0.510 (+/-0.001) for {'C': 0.001, 'penalty': 'l1', 'solver': 'saga'}\n",
      "0.874 (+/-0.023) for {'C': 0.001, 'penalty': 'l2', 'solver': 'saga'}\n",
      "0.860 (+/-0.021) for {'C': 0.01, 'penalty': 'l1', 'solver': 'saga'}\n",
      "0.899 (+/-0.008) for {'C': 0.01, 'penalty': 'l2', 'solver': 'saga'}\n",
      "0.912 (+/-0.015) for {'C': 0.1, 'penalty': 'l1', 'solver': 'saga'}\n",
      "0.914 (+/-0.013) for {'C': 0.1, 'penalty': 'l2', 'solver': 'saga'}\n",
      "0.919 (+/-0.014) for {'C': 1, 'penalty': 'l1', 'solver': 'saga'}\n",
      "0.920 (+/-0.017) for {'C': 1, 'penalty': 'l2', 'solver': 'saga'}\n",
      "0.919 (+/-0.016) for {'C': 10, 'penalty': 'l1', 'solver': 'saga'}\n",
      "0.918 (+/-0.016) for {'C': 10, 'penalty': 'l2', 'solver': 'saga'}\n",
      "\n",
      "              precision    recall  f1-score   support\n",
      "\n",
      "          -1       0.92      0.93      0.92       594\n",
      "           1       0.93      0.92      0.92       606\n",
      "\n",
      "    accuracy                           0.92      1200\n",
      "   macro avg       0.92      0.92      0.92      1200\n",
      "weighted avg       0.92      0.92      0.92      1200\n",
      "\n",
      "Accuracy: 0.9208333333333333\n",
      "\n",
      "Average runtime per test instance: 1.6993284225463868e-06\n"
     ]
    }
   ],
   "source": [
    "# Logistic regression result:\n",
    "Logclf = LogReg_GridSearch_PredictionCV(tr_X, tr_Y, te_X, te_Y, LogReg_tuned_parameters, cvfold)\n"
   ]
  },
  {
   "cell_type": "code",
   "execution_count": 25,
   "metadata": {},
   "outputs": [
    {
     "name": "stdout",
     "output_type": "stream",
     "text": [
      "              precision    recall  f1-score   support\n",
      "\n",
      "          -1       0.90      0.93      0.92       617\n",
      "           1       0.93      0.89      0.91       583\n",
      "\n",
      "    accuracy                           0.91      1200\n",
      "   macro avg       0.91      0.91      0.91      1200\n",
      "weighted avg       0.91      0.91      0.91      1200\n",
      "\n",
      "Accuracy: 0.9133333333333333\n",
      "\n",
      "LogisticRegression(C=1, class_weight=None, dual=False, fit_intercept=True,\n",
      "                   intercept_scaling=1, l1_ratio=None, max_iter=5000,\n",
      "                   multi_class='warn', n_jobs=None, penalty='l1',\n",
      "                   random_state=None, solver='saga', tol=0.0001, verbose=0,\n",
      "                   warm_start=False)\n"
     ]
    }
   ],
   "source": [
    "best_log_clf = Logclf.best_estimator_\n",
    "ypred = best_log_clf.predict(te_X)\n",
    "\n",
    "print(classification_report(te_Y, ypred))\n",
    "print(\"Accuracy:\", accuracy_score(te_Y, ypred))\n",
    "print()\n",
    "\n",
    "print(best_log_clf)"
   ]
  },
  {
   "cell_type": "code",
   "execution_count": 23,
   "metadata": {},
   "outputs": [
    {
     "name": "stdout",
     "output_type": "stream",
     "text": [
      "              precision    recall  f1-score   support\n",
      "\n",
      "          -1       0.90      0.92      0.91       617\n",
      "           1       0.91      0.89      0.90       583\n",
      "\n",
      "    accuracy                           0.91      1200\n",
      "   macro avg       0.91      0.91      0.91      1200\n",
      "weighted avg       0.91      0.91      0.91      1200\n",
      "\n",
      "Accuracy: 0.9066666666666666\n",
      "\n",
      "LogisticRegression(C=0.1, class_weight=None, dual=False, fit_intercept=True,\n",
      "                   intercept_scaling=1, l1_ratio=None, max_iter=5000,\n",
      "                   multi_class='warn', n_jobs=None, penalty='l1',\n",
      "                   random_state=None, solver='saga', tol=0.0001, verbose=0,\n",
      "                   warm_start=False)\n"
     ]
    }
   ],
   "source": []
  },
  {
   "cell_type": "code",
   "execution_count": 28,
   "metadata": {},
   "outputs": [
    {
     "ename": "NameError",
     "evalue": "name 'plot_validation_curve' is not defined",
     "output_type": "error",
     "traceback": [
      "\u001b[0;31m---------------------------------------------------------------------------\u001b[0m",
      "\u001b[0;31mNameError\u001b[0m                                 Traceback (most recent call last)",
      "\u001b[0;32m<ipython-input-28-52259a38fa12>\u001b[0m in \u001b[0;36m<module>\u001b[0;34m\u001b[0m\n\u001b[1;32m      1\u001b[0m \u001b[0;31m# SVM result:\u001b[0m\u001b[0;34m\u001b[0m\u001b[0;34m\u001b[0m\u001b[0;34m\u001b[0m\u001b[0m\n\u001b[0;32m----> 2\u001b[0;31m \u001b[0mSVMclf\u001b[0m \u001b[0;34m=\u001b[0m \u001b[0mSVC_GridSearch_PredictionCV\u001b[0m\u001b[0;34m(\u001b[0m\u001b[0mtr_X\u001b[0m\u001b[0;34m,\u001b[0m \u001b[0mtr_Y\u001b[0m\u001b[0;34m,\u001b[0m \u001b[0mte_X\u001b[0m\u001b[0;34m,\u001b[0m \u001b[0mte_Y\u001b[0m\u001b[0;34m,\u001b[0m \u001b[0mSVM_tuned_parameters\u001b[0m\u001b[0;34m,\u001b[0m \u001b[0mcvfold\u001b[0m\u001b[0;34m)\u001b[0m\u001b[0;34m\u001b[0m\u001b[0;34m\u001b[0m\u001b[0m\n\u001b[0m",
      "\u001b[0;32m<ipython-input-26-dcdae28cb52d>\u001b[0m in \u001b[0;36mSVC_GridSearch_PredictionCV\u001b[0;34m(xtrain, ytrain, xtest, ytest, tuning_parameters, cvfold)\u001b[0m\n\u001b[1;32m     11\u001b[0m                'std_train_score']\n\u001b[1;32m     12\u001b[0m \u001b[0;34m\u001b[0m\u001b[0m\n\u001b[0;32m---> 13\u001b[0;31m     \u001b[0mplot_validation_curve\u001b[0m\u001b[0;34m(\u001b[0m\u001b[0mtuning_parameters\u001b[0m\u001b[0;34m,\u001b[0m\u001b[0mcv_df\u001b[0m\u001b[0;34m,\u001b[0m \u001b[0mresults\u001b[0m\u001b[0;34m)\u001b[0m\u001b[0;34m\u001b[0m\u001b[0;34m\u001b[0m\u001b[0m\n\u001b[0m\u001b[1;32m     14\u001b[0m \u001b[0;34m\u001b[0m\u001b[0m\n\u001b[1;32m     15\u001b[0m     \u001b[0mprint\u001b[0m\u001b[0;34m(\u001b[0m\u001b[0;34m)\u001b[0m\u001b[0;34m\u001b[0m\u001b[0;34m\u001b[0m\u001b[0m\n",
      "\u001b[0;31mNameError\u001b[0m: name 'plot_validation_curve' is not defined"
     ]
    }
   ],
   "source": [
    "# SVM result:\n",
    "SVMclf = SVC_GridSearch_PredictionCV(tr_X, tr_Y, te_X, te_Y, SVM_tuned_parameters, cvfold)"
   ]
  },
  {
   "cell_type": "code",
   "execution_count": 31,
   "metadata": {
    "scrolled": true
   },
   "outputs": [
    {
     "name": "stdout",
     "output_type": "stream",
     "text": [
      "\n",
      "-------------------------------------------------\n",
      "Prediction with Grid search Random Forest Cross validation:\n",
      "\n",
      "Best parameters set found on development set:\n",
      "\n",
      "{'max_depth': 128, 'n_estimators': 256}\n",
      "\n",
      "Grid scores on development set:\n",
      "\n",
      "0.862 (+/-0.033) for {'max_depth': 64, 'n_estimators': 64}\n",
      "0.866 (+/-0.018) for {'max_depth': 64, 'n_estimators': 128}\n",
      "0.868 (+/-0.022) for {'max_depth': 64, 'n_estimators': 256}\n",
      "0.868 (+/-0.022) for {'max_depth': 64, 'n_estimators': 512}\n",
      "0.868 (+/-0.025) for {'max_depth': 64, 'n_estimators': 1024}\n",
      "0.864 (+/-0.025) for {'max_depth': 128, 'n_estimators': 64}\n",
      "0.869 (+/-0.027) for {'max_depth': 128, 'n_estimators': 128}\n",
      "0.872 (+/-0.021) for {'max_depth': 128, 'n_estimators': 256}\n",
      "0.871 (+/-0.024) for {'max_depth': 128, 'n_estimators': 512}\n",
      "0.870 (+/-0.024) for {'max_depth': 128, 'n_estimators': 1024}\n",
      "0.859 (+/-0.028) for {'max_depth': 256, 'n_estimators': 64}\n",
      "0.868 (+/-0.025) for {'max_depth': 256, 'n_estimators': 128}\n",
      "0.865 (+/-0.023) for {'max_depth': 256, 'n_estimators': 256}\n",
      "0.870 (+/-0.021) for {'max_depth': 256, 'n_estimators': 512}\n",
      "0.871 (+/-0.022) for {'max_depth': 256, 'n_estimators': 1024}\n",
      "0.864 (+/-0.016) for {'max_depth': 512, 'n_estimators': 64}\n",
      "0.863 (+/-0.021) for {'max_depth': 512, 'n_estimators': 128}\n",
      "0.868 (+/-0.021) for {'max_depth': 512, 'n_estimators': 256}\n",
      "0.869 (+/-0.026) for {'max_depth': 512, 'n_estimators': 512}\n",
      "0.871 (+/-0.022) for {'max_depth': 512, 'n_estimators': 1024}\n",
      "0.864 (+/-0.023) for {'max_depth': 1024, 'n_estimators': 64}\n",
      "0.869 (+/-0.020) for {'max_depth': 1024, 'n_estimators': 128}\n",
      "0.866 (+/-0.025) for {'max_depth': 1024, 'n_estimators': 256}\n",
      "0.871 (+/-0.024) for {'max_depth': 1024, 'n_estimators': 512}\n",
      "0.869 (+/-0.020) for {'max_depth': 1024, 'n_estimators': 1024}\n",
      "\n",
      "              precision    recall  f1-score   support\n",
      "\n",
      "          -1       0.88      0.86      0.87       623\n",
      "           1       0.85      0.87      0.86       577\n",
      "\n",
      "    accuracy                           0.87      1200\n",
      "   macro avg       0.87      0.87      0.87      1200\n",
      "weighted avg       0.87      0.87      0.87      1200\n",
      "\n",
      "Accuracy: 0.8658333333333333\n",
      "\n",
      "Average runtime per test instance: 0.00016842842102050783\n"
     ]
    },
    {
     "data": {
      "image/png": "[encoded data removed]",
      "text/plain": [
       "<Figure size 432x288 with 1 Axes>"
      ]
     },
     "metadata": {
      "needs_background": "light"
     },
     "output_type": "display_data"
    },
    {
     "data": {
      "image/png": "[encoded data removed]",
      "text/plain": [
       "<Figure size 288x288 with 2 Axes>"
      ]
     },
     "metadata": {
      "needs_background": "light"
     },
     "output_type": "display_data"
    }
   ],
   "source": [
    "# Random Forest result:\n",
    "RFclf, indices = RF_GridSearch_PredictionCV(tr_X, tr_Y, te_X, te_Y, RF_tuned_parameters, cvfold)"
   ]
  },
  {
   "cell_type": "code",
   "execution_count": 45,
   "metadata": {},
   "outputs": [
    {
     "name": "stdout",
     "output_type": "stream",
     "text": [
      "136\n",
      "\n",
      "[132 124  86  54  94 121 114 129 116  78]\n"
     ]
    }
   ],
   "source": []
  },
  {
   "cell_type": "code",
   "execution_count": 32,
   "metadata": {},
   "outputs": [
    {
     "name": "stdout",
     "output_type": "stream",
     "text": [
      "\n",
      "-------------------------------------------------\n",
      "Prediction with Grid search KNN Cross validation:\n",
      "\n",
      "Best parameters set found on development set:\n",
      "\n",
      "{'n_neighbors': 16}\n",
      "\n",
      "Grid scores on development set:\n",
      "\n",
      "0.777 (+/-0.015) for {'n_neighbors': 8}\n",
      "0.795 (+/-0.024) for {'n_neighbors': 16}\n",
      "0.794 (+/-0.029) for {'n_neighbors': 32}\n",
      "0.785 (+/-0.026) for {'n_neighbors': 64}\n",
      "0.769 (+/-0.023) for {'n_neighbors': 128}\n",
      "\n",
      "              precision    recall  f1-score   support\n",
      "\n",
      "          -1       0.74      0.92      0.82       623\n",
      "           1       0.89      0.65      0.75       577\n",
      "\n",
      "    accuracy                           0.79      1200\n",
      "   macro avg       0.81      0.79      0.79      1200\n",
      "weighted avg       0.81      0.79      0.79      1200\n",
      "\n",
      "Accuracy: 0.7933333333333333\n",
      "\n",
      "Average runtime per test instance: 0.0013139273722966513\n"
     ]
    }
   ],
   "source": [
    "# KNN result:\n",
    "\n",
    "KNNclf = KNN_Grid_search_Prediction_CV(tr_X, tr_Y, te_X, te_Y, KNN_tuned_parameters, cvfold)"
   ]
  },
  {
   "cell_type": "code",
   "execution_count": null,
   "metadata": {},
   "outputs": [],
   "source": []
  },
  {
   "cell_type": "code",
   "execution_count": null,
   "metadata": {},
   "outputs": [
    {
     "name": "stderr",
     "output_type": "stream",
     "text": [
      "/Users/apple/opt/anaconda3/envs/AMLS/lib/python3.6/site-packages/sklearn/neural_network/multilayer_perceptron.py:568: UserWarning: Training interrupted by user.\n",
      "  warnings.warn(\"Training interrupted by user.\")\n",
      "/Users/apple/opt/anaconda3/envs/AMLS/lib/python3.6/site-packages/sklearn/neural_network/multilayer_perceptron.py:568: UserWarning: Training interrupted by user.\n",
      "  warnings.warn(\"Training interrupted by user.\")\n",
      "/Users/apple/opt/anaconda3/envs/AMLS/lib/python3.6/site-packages/sklearn/neural_network/multilayer_perceptron.py:568: UserWarning: Training interrupted by user.\n",
      "  warnings.warn(\"Training interrupted by user.\")\n",
      "/Users/apple/opt/anaconda3/envs/AMLS/lib/python3.6/site-packages/sklearn/neural_network/multilayer_perceptron.py:568: UserWarning: Training interrupted by user.\n",
      "  warnings.warn(\"Training interrupted by user.\")\n",
      "/Users/apple/opt/anaconda3/envs/AMLS/lib/python3.6/site-packages/sklearn/neural_network/multilayer_perceptron.py:568: UserWarning: Training interrupted by user.\n",
      "  warnings.warn(\"Training interrupted by user.\")\n"
     ]
    }
   ],
   "source": [
    "#MLP result:\n",
    "\n",
    "\n",
    "MLP_clf = MLP_Grid_search_Prediction_CV(tr_X, tr_Y, te_X, te_Y, MLP_tuned_parameters, cvfold)"
   ]
  },
  {
   "cell_type": "code",
   "execution_count": 39,
   "metadata": {},
   "outputs": [
    {
     "ename": "NameError",
     "evalue": "name 'MLP_clf' is not defined",
     "output_type": "error",
     "traceback": [
      "\u001b[0;31m---------------------------------------------------------------------------\u001b[0m",
      "\u001b[0;31mNameError\u001b[0m                                 Traceback (most recent call last)",
      "\u001b[0;32m<ipython-input-39-bb7c618e9b61>\u001b[0m in \u001b[0;36m<module>\u001b[0;34m\u001b[0m\n\u001b[0;32m----> 1\u001b[0;31m \u001b[0mMLP_clf\u001b[0m\u001b[0;34m.\u001b[0m\u001b[0mfit\u001b[0m\u001b[0;34m(\u001b[0m\u001b[0mte_X\u001b[0m\u001b[0;34m,\u001b[0m\u001b[0mte_Y\u001b[0m\u001b[0;34m)\u001b[0m\u001b[0;34m\u001b[0m\u001b[0;34m\u001b[0m\u001b[0m\n\u001b[0m\u001b[1;32m      2\u001b[0m \u001b[0mmeans\u001b[0m \u001b[0;34m=\u001b[0m \u001b[0mclf\u001b[0m\u001b[0;34m.\u001b[0m\u001b[0mcv_results_\u001b[0m\u001b[0;34m[\u001b[0m\u001b[0;34m'mean_test_score'\u001b[0m\u001b[0;34m]\u001b[0m\u001b[0;34m\u001b[0m\u001b[0;34m\u001b[0m\u001b[0m\n\u001b[1;32m      3\u001b[0m \u001b[0mstds\u001b[0m \u001b[0;34m=\u001b[0m \u001b[0mclf\u001b[0m\u001b[0;34m.\u001b[0m\u001b[0mcv_results_\u001b[0m\u001b[0;34m[\u001b[0m\u001b[0;34m'std_test_score'\u001b[0m\u001b[0;34m]\u001b[0m\u001b[0;34m\u001b[0m\u001b[0;34m\u001b[0m\u001b[0m\n\u001b[1;32m      4\u001b[0m \u001b[0;32mfor\u001b[0m \u001b[0mmean\u001b[0m\u001b[0;34m,\u001b[0m \u001b[0mstd\u001b[0m\u001b[0;34m,\u001b[0m \u001b[0mparams\u001b[0m \u001b[0;32min\u001b[0m \u001b[0mzip\u001b[0m\u001b[0;34m(\u001b[0m\u001b[0mmeans\u001b[0m\u001b[0;34m,\u001b[0m \u001b[0mstds\u001b[0m\u001b[0;34m,\u001b[0m \u001b[0mclf\u001b[0m\u001b[0;34m.\u001b[0m\u001b[0mcv_results_\u001b[0m\u001b[0;34m[\u001b[0m\u001b[0;34m'params'\u001b[0m\u001b[0;34m]\u001b[0m\u001b[0;34m)\u001b[0m\u001b[0;34m:\u001b[0m\u001b[0;34m\u001b[0m\u001b[0;34m\u001b[0m\u001b[0m\n\u001b[1;32m      5\u001b[0m     print(\"%0.3f (+/-%0.03f) for %r\"\n",
      "\u001b[0;31mNameError\u001b[0m: name 'MLP_clf' is not defined"
     ]
    }
   ],
   "source": []
  },
  {
   "cell_type": "code",
   "execution_count": null,
   "metadata": {},
   "outputs": [],
   "source": []
  },
  {
   "cell_type": "code",
   "execution_count": null,
   "metadata": {},
   "outputs": [],
   "source": []
  },
  {
   "cell_type": "code",
   "execution_count": null,
   "metadata": {},
   "outputs": [],
   "source": []
  },
  {
   "cell_type": "code",
   "execution_count": null,
   "metadata": {},
   "outputs": [],
   "source": []
  },
  {
   "cell_type": "code",
   "execution_count": null,
   "metadata": {},
   "outputs": [],
   "source": []
  },
  {
   "cell_type": "code",
   "execution_count": null,
   "metadata": {},
   "outputs": [],
   "source": []
  },
  {
   "cell_type": "code",
   "execution_count": null,
   "metadata": {},
   "outputs": [],
   "source": []
  },
  {
   "cell_type": "code",
   "execution_count": null,
   "metadata": {},
   "outputs": [],
   "source": []
  },
  {
   "cell_type": "code",
   "execution_count": null,
   "metadata": {},
   "outputs": [],
   "source": []
  },
  {
   "cell_type": "code",
   "execution_count": null,
   "metadata": {},
   "outputs": [],
   "source": []
  },
  {
   "cell_type": "code",
   "execution_count": null,
   "metadata": {},
   "outputs": [],
   "source": []
  },
  {
   "cell_type": "code",
   "execution_count": null,
   "metadata": {},
   "outputs": [],
   "source": []
  },
  {
   "cell_type": "code",
   "execution_count": null,
   "metadata": {},
   "outputs": [],
   "source": []
  },
  {
   "cell_type": "code",
   "execution_count": null,
   "metadata": {},
   "outputs": [],
   "source": []
  },
  {
   "cell_type": "code",
   "execution_count": null,
   "metadata": {},
   "outputs": [],
   "source": []
  },
  {
   "cell_type": "code",
   "execution_count": null,
   "metadata": {},
   "outputs": [],
   "source": []
  },
  {
   "cell_type": "code",
   "execution_count": null,
   "metadata": {},
   "outputs": [],
   "source": []
  },
  {
   "cell_type": "code",
   "execution_count": null,
   "metadata": {},
   "outputs": [],
   "source": []
  },
  {
   "cell_type": "code",
   "execution_count": null,
   "metadata": {},
   "outputs": [],
   "source": []
  },
  {
   "cell_type": "code",
   "execution_count": null,
   "metadata": {},
   "outputs": [],
   "source": []
  },
  {
   "cell_type": "code",
   "execution_count": 26,
   "metadata": {},
   "outputs": [],
   "source": []
  },
  {
   "cell_type": "code",
   "execution_count": null,
   "metadata": {},
   "outputs": [],
   "source": []
  },
  {
   "cell_type": "code",
   "execution_count": null,
   "metadata": {},
   "outputs": [],
   "source": [
    "\n"
   ]
  },
  {
   "cell_type": "code",
   "execution_count": 9,
   "metadata": {},
   "outputs": [
    {
     "name": "stdout",
     "output_type": "stream",
     "text": [
      "[[ 43 111  44 ... 156  85 156]\n",
      " [ 39 103  41 ... 158  86 158]\n",
      " [ 45 115  46 ... 167  80 166]\n",
      " ...\n",
      " [ 46 114  47 ... 153  85 152]\n",
      " [ 28 113  29 ... 158  88 157]\n",
      " [ 66 120  65 ... 153  80 154]]\n",
      "[[[ 43 111]\n",
      "  [ 44 124]\n",
      "  [ 45 136]\n",
      "  ...\n",
      "  [ 95 155]\n",
      "  [ 90 156]\n",
      "  [ 85 156]]\n",
      "\n",
      " [[ 39 103]\n",
      "  [ 41 117]\n",
      "  [ 43 131]\n",
      "  ...\n",
      "  [ 95 157]\n",
      "  [ 90 158]\n",
      "  [ 86 158]]\n",
      "\n",
      " [[ 45 115]\n",
      "  [ 46 127]\n",
      "  [ 48 140]\n",
      "  ...\n",
      "  [ 93 166]\n",
      "  [ 87 167]\n",
      "  [ 80 166]]\n",
      "\n",
      " ...\n",
      "\n",
      " [[ 46 114]\n",
      "  [ 47 125]\n",
      "  [ 49 135]\n",
      "  ...\n",
      "  [ 93 153]\n",
      "  [ 89 153]\n",
      "  [ 85 152]]\n",
      "\n",
      " [[ 28 113]\n",
      "  [ 29 126]\n",
      "  [ 31 139]\n",
      "  ...\n",
      "  [ 97 157]\n",
      "  [ 93 158]\n",
      "  [ 88 157]]\n",
      "\n",
      " [[ 66 120]\n",
      "  [ 65 128]\n",
      "  [ 65 137]\n",
      "  ...\n",
      "  [ 89 153]\n",
      "  [ 85 153]\n",
      "  [ 80 154]]]\n"
     ]
    }
   ],
   "source": []
  },
  {
   "cell_type": "code",
   "execution_count": null,
   "metadata": {},
   "outputs": [],
   "source": [
    "def plot_validation_curve(grid_params, cv_df, results):\n",
    "    fig, axes = plt.subplots(1, len(grid_params), \n",
    "                         figsize = (5*len(grid_params), 7),\n",
    "                         sharey='row')\n",
    "    axes[0].set_ylabel(\"Score\", fontsize=30)\n",
    "    \n",
    "    df = cv_df\n",
    "    \n",
    "    #for each tuning parameter\n",
    "    for idx, (param_name, param_range) in enumerate(grid_params.items()):\n",
    "        \n",
    "        #group the grid para and their corresponding results\n",
    "        #grouped_df = df.groupby(f'param_{param_name}')[results]\n",
    "        \n",
    "        grouped_df = df.groupby(f'param_{param_name}')[results]\\\n",
    "                        .agg({'mean_train_score': 'mean',\n",
    "                              'mean_test_score': 'mean',\n",
    "                              'std_train_score': 'mean',\n",
    "                              'std_test_score': 'mean'})\n",
    "    \n",
    "        \n",
    "        axes[idx].set_xlabel(param_name, fontsize=30)\n",
    "        axes[idx].set_ylim(0.0, 1.1)\n",
    "        lw = 2\n",
    "        \n",
    "        #plot training score against the tuning parameter\n",
    "        axes[idx].plot(param_range, grouped_df['mean_train_score'], label=\"Training score\",\n",
    "                color=\"darkorange\", lw=lw)\n",
    "        #fill the gap between + and - std value\n",
    "        axes[idx].fill_between(param_range,grouped_df['mean_train_score'] - grouped_df['std_train_score'],\n",
    "                    grouped_df['mean_train_score'] + grouped_df['std_train_score'], alpha=0.2,\n",
    "                    color=\"darkorange\", lw=lw)\n",
    "        \n",
    "        #repeat the same for test score\n",
    "        axes[idx].plot(param_range, grouped_df['mean_test_score'], label=\"Cross-validation score\",\n",
    "                color=\"navy\", lw=lw)\n",
    "        axes[idx].fill_between(param_range, grouped_df['mean_test_score'] - grouped_df['std_test_score'],\n",
    "                    grouped_df['mean_test_score'] + grouped_df['std_test_score'], alpha=0.2,\n",
    "                    color=\"navy\", lw=lw)\n",
    "       \n",
    "    \n",
    "    \n",
    "    handles, labels = axes[0].get_legend_handles_labels()\n",
    "    fig.suptitle('Validation curves', fontsize=30)\n",
    "    fig.legend(handles, labels, loc=8, ncol=2, fontsize=20)\n",
    "\n",
    "    fig.subplots_adjust(bottom=0.25, top=0.85)  \n",
    "    plt.show()\n",
    "        \n",
    "    \n"
   ]
  }
 ],
 "metadata": {
  "kernelspec": {
   "display_name": "Python 3",
   "language": "python",
   "name": "python3"
  },
  "language_info": {
   "codemirror_mode": {
    "name": "ipython",
    "version": 3
   },
   "file_extension": ".py",
   "mimetype": "text/x-python",
   "name": "python",
   "nbconvert_exporter": "python",
   "pygments_lexer": "ipython3",
   "version": "3.6.12"
  }
 },
 "nbformat": 4,
 "nbformat_minor": 4
}
